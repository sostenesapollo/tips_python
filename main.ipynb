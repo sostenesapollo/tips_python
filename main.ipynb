{
 "cells": [
  {
   "cell_type": "code",
   "execution_count": 1,
   "metadata": {},
   "outputs": [
    {
     "name": "stdout",
     "output_type": "stream",
     "text": [
      "1\n"
     ]
    }
   ],
   "source": [
    "\n",
    "# 1\n",
    "condition = True\n",
    "y = 1 if condition else 0\n",
    "print(y)\n"
   ]
  },
  {
   "cell_type": "code",
   "execution_count": 2,
   "metadata": {},
   "outputs": [
    {
     "name": "stdout",
     "output_type": "stream",
     "text": [
      "['asd', '123', 'asd']\n"
     ]
    }
   ],
   "source": [
    "\n",
    "# 2\n",
    "with open(\"file.txt\", \"r\") as f:\n",
    "    content  = f.read()\n",
    "words = content.split(\" \")\n",
    "print(words)"
   ]
  },
  {
   "cell_type": "code",
   "execution_count": 3,
   "metadata": {},
   "outputs": [
    {
     "name": "stdout",
     "output_type": "stream",
     "text": [
      "<enumerate object at 0x000001AC3462D300>\n",
      "1 a\n",
      "2 b\n",
      "3 c\n"
     ]
    }
   ],
   "source": [
    "# 3\n",
    "names = ['a', 'b', 'c']\n",
    "data = enumerate(names, start=1)\n",
    "print(data)\n",
    "for index, name in data:\n",
    "    print(index, name)"
   ]
  },
  {
   "cell_type": "code",
   "execution_count": 4,
   "metadata": {},
   "outputs": [
    {
     "name": "stdout",
     "output_type": "stream",
     "text": [
      "Spider Man Peter Marvel\n",
      "Superman Clark DC\n",
      "Batman Wayne DC\n"
     ]
    }
   ],
   "source": [
    "# 4\n",
    "names = [\"Spider Man\", \"Superman\", \"Batman\"]\n",
    "heroes = [\"Peter\", \"Clark\", \"Wayne\"]\n",
    "universes = [\"Marvel\", \"DC\", \"DC\"]\n",
    "\n",
    "for name, hero, universe in zip(names, heroes, universes):\n",
    "    print(name, hero, universe)"
   ]
  },
  {
   "cell_type": "code",
   "execution_count": 5,
   "metadata": {},
   "outputs": [
    {
     "name": "stdout",
     "output_type": "stream",
     "text": [
      "Spider Man Peter Marvel\n",
      "Superman Clark DC\n",
      "Batman Wayne DC\n"
     ]
    }
   ],
   "source": [
    "# 5\n",
    "for data in zip(names, heroes, universes):\n",
    "    name, hero, universe = data\n",
    "    print(name, hero, universe)"
   ]
  },
  {
   "cell_type": "code",
   "execution_count": 6,
   "metadata": {},
   "outputs": [
    {
     "name": "stdout",
     "output_type": "stream",
     "text": [
      "1 [2, 3, 4, 5] 6\n"
     ]
    }
   ],
   "source": [
    "# 6\n",
    "a,*b,c = (1,2,3,4,5,6)\n",
    "print(a, b, c)\n"
   ]
  },
  {
   "cell_type": "code",
   "execution_count": 7,
   "metadata": {},
   "outputs": [
    {
     "name": "stdout",
     "output_type": "stream",
     "text": [
      "1 2 [3, 4, 5] 6\n"
     ]
    }
   ],
   "source": [
    "# 7\n",
    "a,b,*c,d = (1,2,3,4,5,6)\n",
    "print(a, b, c, d)"
   ]
  },
  {
   "cell_type": "code",
   "execution_count": 8,
   "metadata": {},
   "outputs": [
    {
     "name": "stdout",
     "output_type": "stream",
     "text": [
      "val1\n"
     ]
    }
   ],
   "source": [
    "\n",
    "# 8 \n",
    "class Person():\n",
    "    pass\n",
    "\n",
    "person = Person()\n",
    "\n",
    "setattr(person, 'key1', 'val1')\n",
    "\n",
    "print(getattr(person, 'key1'))"
   ]
  },
  {
   "cell_type": "code",
   "execution_count": 9,
   "metadata": {},
   "outputs": [
    {
     "name": "stdout",
     "output_type": "stream",
     "text": [
      "Corey\n",
      "Schafer\n"
     ]
    }
   ],
   "source": [
    "# 9\n",
    "person = Person()\n",
    "person_info = {'first':'Corey', 'last':'Schafer'}\n",
    "\n",
    "for key, val in person_info.items():\n",
    "    setattr(person, key, val)\n",
    "\n",
    "for key in person_info.keys():\n",
    "    print(getattr(person, key))"
   ]
  },
  {
   "cell_type": "code",
   "execution_count": 10,
   "metadata": {},
   "outputs": [
    {
     "name": "stdout",
     "output_type": "stream",
     "text": [
      "[0, 1, 4, 9, 16, 25, 36, 49, 64, 81]\n",
      "[0, 1, 4, 9, 16, 25, 36, 49, 64, 81, 100]\n"
     ]
    }
   ],
   "source": [
    "# 10 - list comprehension\n",
    "squares = []\n",
    "for i in range(10):\n",
    "    squares.append(i*i)\n",
    "print(squares)\n",
    "\n",
    "squares = [i*i for i in range(11)]\n",
    "print(squares)\n"
   ]
  },
  {
   "cell_type": "code",
   "execution_count": 11,
   "metadata": {},
   "outputs": [
    {
     "name": "stdout",
     "output_type": "stream",
     "text": [
      "Ordered by Age:\n",
      "{'name': 'Josh', 'age': 10}\n",
      "{'name': 'Jon', 'age': 12}\n",
      "{'name': 'Paulie', 'age': 13}\n",
      "{'name': 'Max', 'age': 21}\n",
      "{'name': 'Cameron', 'age': 89}\n",
      "Ordered by Name:\n",
      "{'name': 'Cameron', 'age': 89}\n",
      "{'name': 'Jon', 'age': 12}\n",
      "{'name': 'Josh', 'age': 10}\n",
      "{'name': 'Max', 'age': 21}\n",
      "{'name': 'Paulie', 'age': 13}\n"
     ]
    }
   ],
   "source": [
    "# 11 - Sorting array of dicts\n",
    "data = [\n",
    "    {\"name\":\"Jon\", \"age\": 12},\n",
    "    {\"name\":\"Max\", \"age\": 21},\n",
    "    {\"name\":\"Cameron\", \"age\": 89},\n",
    "    {\"name\":\"Josh\", \"age\": 10},\n",
    "    {\"name\":\"Paulie\", \"age\": 13},\n",
    "]\n",
    "\n",
    "sorted_data = sorted(data, key= lambda x: x[\"age\"])\n",
    "\n",
    "print(\"Ordered by Age:\")\n",
    "for i in sorted_data:\n",
    "    print(i)\n",
    "\n",
    "sorted_data = sorted(data, key= lambda x: x[\"name\"])\n",
    "\n",
    "print(\"Ordered by Name:\")\n",
    "for i in sorted_data:\n",
    "    print(i)"
   ]
  },
  {
   "cell_type": "code",
   "execution_count": 12,
   "metadata": {},
   "outputs": [
    {
     "name": "stdout",
     "output_type": "stream",
     "text": [
      "49995000\n",
      "85176 bytes\n",
      "49995000\n",
      "104 bytes\n"
     ]
    }
   ],
   "source": [
    "# 12 - Save memory with generators\n",
    "import sys\n",
    "\n",
    "my_list = [i for i in range(10_000)]\n",
    "print(sum(my_list))\n",
    "print(sys.getsizeof(my_list), \"bytes\")\n",
    "\n",
    "# 😱 insane.\n",
    "my_list = (i for i in range(10_000))\n",
    "print(sum(my_list))\n",
    "print(sys.getsizeof(my_list), \"bytes\")"
   ]
  },
  {
   "cell_type": "code",
   "execution_count": 13,
   "metadata": {},
   "outputs": [
    {
     "name": "stdout",
     "output_type": "stream",
     "text": [
      "{'item': 'football', 'price': 10.0, 'count': 0}\n"
     ]
    }
   ],
   "source": [
    "# 13 - dicts - don't thows if key not in dict\n",
    "\n",
    "my_dict = {\"item\": \"football\", \"price\": 10.00}\n",
    "my_dict.setdefault(\"count\", 0)\n",
    "count = my_dict.get(\"count\", 0)\n",
    "print(my_dict)\n"
   ]
  },
  {
   "cell_type": "code",
   "execution_count": 14,
   "metadata": {},
   "outputs": [
    {
     "name": "stdout",
     "output_type": "stream",
     "text": [
      "10\n"
     ]
    }
   ],
   "source": [
    "# 14 - Count with collections.Counter\n",
    "\n",
    "from collections import Counter\n",
    "\n",
    "my_list = [10, 10, 10, 5, 4, 9, 9]\n",
    "counter = Counter(my_list)\n",
    "\n",
    "moster_common = counter.most_common(1)\n",
    "print(moster_common[0][0])"
   ]
  },
  {
   "cell_type": "code",
   "execution_count": 15,
   "metadata": {},
   "outputs": [
    {
     "name": "stdout",
     "output_type": "stream",
     "text": [
      "{'name': 'Alex', 'age': 20}\n"
     ]
    }
   ],
   "source": [
    "# 15 - Merge dicts (3.5+)\n",
    "\n",
    "d1 = {\"name\": \"Alex\"}\n",
    "d2 = {\"age\": 20}\n",
    "\n",
    "merged = {**d1, **d2}\n",
    "\n",
    "print(merged)"
   ]
  },
  {
   "cell_type": "code",
   "execution_count": 16,
   "metadata": {},
   "outputs": [
    {
     "name": "stdout",
     "output_type": "stream",
     "text": [
      "check\n"
     ]
    }
   ],
   "source": [
    "# 16\n",
    "if \"r\" in [\"r\", \"g\", \"b\"]: print(\"check\")"
   ]
  }
 ],
 "metadata": {
  "interpreter": {
   "hash": "47a26fa752bb7104211bf04ef3448bbdc2035e7529c1fac0cb094f581fe17384"
  },
  "kernelspec": {
   "display_name": "Python 3.10.4 64-bit (windows store)",
   "language": "python",
   "name": "python3"
  },
  "language_info": {
   "codemirror_mode": {
    "name": "ipython",
    "version": 3
   },
   "file_extension": ".py",
   "mimetype": "text/x-python",
   "name": "python",
   "nbconvert_exporter": "python",
   "pygments_lexer": "ipython3",
   "version": "3.10.4"
  },
  "orig_nbformat": 4
 },
 "nbformat": 4,
 "nbformat_minor": 2
}
